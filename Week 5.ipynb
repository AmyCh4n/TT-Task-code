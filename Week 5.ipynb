{
 "cells": [
  {
   "cell_type": "markdown",
   "metadata": {},
   "source": [
    "1. Create a 1D array of numbers from 0 to 9"
   ]
  },
  {
   "cell_type": "code",
   "execution_count": null,
   "metadata": {},
   "outputs": [],
   "source": [
    "import numpy as np "
   ]
  },
  {
   "cell_type": "code",
   "execution_count": null,
   "metadata": {},
   "outputs": [],
   "source": [
    "first_array = np.array([0,1, 2, 3, 4, 5, 6, 7, 8, 9])\n",
    "print(first_array)"
   ]
  },
  {
   "cell_type": "markdown",
   "metadata": {},
   "source": [
    "2. Create a 3x3 NumPy array of all Boolean value Trues"
   ]
  },
  {
   "cell_type": "code",
   "execution_count": null,
   "metadata": {},
   "outputs": [],
   "source": [
    "second_array = np.ones((3, 3))\n",
    "print(second_array)"
   ]
  },
  {
   "cell_type": "markdown",
   "metadata": {},
   "source": [
    "3. Extract all odd numbers from an array of 1-10"
   ]
  },
  {
   "cell_type": "code",
   "execution_count": null,
   "metadata": {},
   "outputs": [],
   "source": [
    "third_array = np.array([1,2,3,4,5,6,7,8,9,10])\n",
    "print(third_array[0:10:2])"
   ]
  },
  {
   "cell_type": "markdown",
   "metadata": {},
   "source": [
    "4. Replace all odd numbers in an array of 1-10 with the value of -1"
   ]
  },
  {
   "cell_type": "code",
   "execution_count": null,
   "metadata": {},
   "outputs": [],
   "source": [
    "fourth_array = np.arange(1,11,1)\n",
    "fourth_array[fourth_array%2==1] = -1\n",
    "print(fourth_array)"
   ]
  },
  {
   "cell_type": "markdown",
   "metadata": {},
   "source": [
    "5. Convert a 1D array to a 2D array with 2 rows "
   ]
  },
  {
   "cell_type": "code",
   "execution_count": null,
   "metadata": {},
   "outputs": [],
   "source": [
    "fifth_array = np.arange(1,9,1)\n",
    "print(fifth_array)\n",
    "new_fifth_array = fifth_array.reshape(2,4)\n",
    "print(new_fifth_array)"
   ]
  },
  {
   "cell_type": "markdown",
   "metadata": {},
   "source": [
    "6. Create two arrays a and b, stack these two arrays vertically use the np.dot and np.sum to calculate totals "
   ]
  },
  {
   "cell_type": "code",
   "execution_count": null,
   "metadata": {},
   "outputs": [],
   "source": [
    "sixth_array_a = np.arange(2,11).reshape(3,3)\n",
    "sixth_array_b = np.arange(11,20).reshape(3,3)\n",
    "\n",
    "print(sixth_array_a)\n",
    "print(sixth_array_b)"
   ]
  },
  {
   "cell_type": "code",
   "execution_count": null,
   "metadata": {},
   "outputs": [],
   "source": [
    "sixth_array_c = np.dot(sixth_array_a, sixth_array_b)\n",
    "print(sixth_array_c)\n",
    "\n",
    "sixth_total = np.sum(sixth_array_c)\n",
    "print(sixth_total)"
   ]
  },
  {
   "cell_type": "markdown",
   "metadata": {},
   "source": [
    "Extension: \n",
    "1. Create the following pattern without hardcoding. Use only NumPy functions\n",
    "- array([1,1,1,2,2,2,3,3,3,1,2,3,1,2,3,1,2,3])\n",
    "2. In two arrays a: (1,2,3,4,5) and b: (4,5,6,7,8,9) - remove all repeating items present in array b\n",
    "3. Get all items between 3 and 7 from a and b and sum them together"
   ]
  },
  {
   "cell_type": "code",
   "execution_count": null,
   "metadata": {},
   "outputs": [],
   "source": [
    "ext_array_a = np.array([1,1,1,2,2,2,3,3,3])\n",
    "ext_array_b = np.array([1,2,3,1,2,3,1,2,3])\n",
    "np.concatenate((ext_array_a, ext_array_b), axis=None)\n"
   ]
  },
  {
   "cell_type": "code",
   "execution_count": null,
   "metadata": {},
   "outputs": [],
   "source": [
    "ext_array_c = np.array([1,2,3,4,5])\n",
    "ext_array_d = np.array([4,5,6,7,8,9])\n",
    "\n",
    "ext_array_e = np.unique(np.concatenate((ext_array_c, ext_array_d),0))\n",
    "print(ext_array_e)"
   ]
  },
  {
   "cell_type": "code",
   "execution_count": null,
   "metadata": {},
   "outputs": [],
   "source": [
    "ext_array_f = np.concatenate((ext_array_c, ext_array_d),0)\n",
    "print(ext_array_f)\n",
    "\n",
    "ext_array_g = ext_array_f[3:8]\n",
    "print(ext_array_g)\n",
    "\n",
    "ext_total = np.sum(ext_array_g)\n",
    "print(ext_total)\n"
   ]
  }
 ],
 "metadata": {
  "interpreter": {
   "hash": "aee8b7b246df8f9039afb4144a1f6fd8d2ca17a180786b69acc140d282b71a49"
  },
  "kernelspec": {
   "display_name": "Python 3.9.1 64-bit",
   "language": "python",
   "name": "python3"
  },
  "language_info": {
   "name": "python",
   "version": "3.9.1"
  },
  "orig_nbformat": 4
 },
 "nbformat": 4,
 "nbformat_minor": 2
}
