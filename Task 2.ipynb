{
 "cells": [
  {
   "cell_type": "markdown",
   "metadata": {},
   "source": [
    "Task 1: Create your own Flow Diagram, a subject of your own choice, Example: Fast food order and convert it into code."
   ]
  },
  {
   "cell_type": "code",
   "execution_count": null,
   "metadata": {},
   "outputs": [],
   "source": [
    "#Coding the coffee shop order \n",
    "\n",
    "order = input(\"Would you like to order?\")\n",
    "\n",
    "if order == \"yes\":\n",
    "    coffee = input(\"Would you like coffee?\")\n",
    "    if coffee == \"yes\":\n",
    "        tea = input(\"Would you like a tea?\")\n",
    "        if tea == \"yes\":\n",
    "            print(\"Thank you for your order, you ordered a coffee and tea\")\n",
    "        else:\n",
    "            print(\"Thanks you ordered a coffee\")\n",
    "    else:\n",
    "        tea = input(\"Would you like a tea?\")\n",
    "        if tea == \"yes\":\n",
    "            print(\"Thanks you ordered a tea\")\n",
    "else:\n",
    "    print(\"No order made, goodbye\")\n"
   ]
  },
  {
   "cell_type": "markdown",
   "metadata": {},
   "source": [
    "Task 2: Write a program that allows you to enter 4 numbers and stores them in a file called 'numbers'\n",
    "- 3, 45, 83, 21"
   ]
  },
  {
   "cell_type": "code",
   "execution_count": null,
   "metadata": {},
   "outputs": [],
   "source": [
    "new_file = open(\"Task 2 numbers.txt\", \"w\")\n",
    "new_file = open(\"Task 2 numbers.txt\", \"a\")\n",
    "new_file.write(\"3, 45, 83, 21\")\n",
    "new_file.close()\n"
   ]
  },
  {
   "cell_type": "markdown",
   "metadata": {},
   "source": [
    "Task 3: Write a program to ask a student for their percentage mark and convert this to a grade, use function called mark_grade"
   ]
  },
  {
   "cell_type": "code",
   "execution_count": null,
   "metadata": {},
   "outputs": [],
   "source": [
    "#Convert percentage mark into grade\n",
    "def mark_grade(percent):\n",
    "    if percent >= 90:\n",
    "        return \"A*\"\n",
    "    elif percent >= 80 and percent <90:\n",
    "        return \"A\"\n",
    "    elif percent >= 70 and percent <80:\n",
    "        return \"B\"\n",
    "    elif percent >= 60 and percent <70:\n",
    "        return \"C\"\n",
    "    elif percent >= 50 and percent < 60:\n",
    "        return \"D\"\n",
    "    else:\n",
    "        return \"F\"\n"
   ]
  },
  {
   "cell_type": "markdown",
   "metadata": {},
   "source": [
    "Extension to Task 3: Ask a user for their target grade and print this with their mark:\n",
    "- If their target grade > exam grade display a suitable message \n",
    "- If their target grade = exam grade display a suitable message \n",
    "- If their target grade < exam grade display a suitable message"
   ]
  },
  {
   "cell_type": "code",
   "execution_count": null,
   "metadata": {},
   "outputs": [],
   "source": [
    "mark = int(input(\"What was your percentage mark?\"))\n",
    "grade = mark_grade(mark)\n",
    "\n",
    "targ_grade = input(\"What was your target grade?\")\n",
    "\n",
    "if targ_grade < grade:\n",
    "    print(\"you did not achieve your goal\")\n",
    "    print(\"Your grade was\", grade, \"and your target grade was\", targ_grade)\n",
    "elif targ_grade == grade:\n",
    "    print(\"you achieved your goal\")\n",
    "    print(\"Your grade was\", grade, \"and your target grade was\", targ_grade)\n",
    "elif targ_grade > grade:\n",
    "    print(\"you overachieved\")\n",
    "    print(\"Your grade was\", grade, \"and your target grade was\", targ_grade)\n",
    "else:\n",
    "    print(\"you did not achieve your goal\")\n"
   ]
  },
  {
   "cell_type": "code",
   "execution_count": null,
   "metadata": {},
   "outputs": [],
   "source": []
  }
 ],
 "metadata": {
  "interpreter": {
   "hash": "aee8b7b246df8f9039afb4144a1f6fd8d2ca17a180786b69acc140d282b71a49"
  },
  "kernelspec": {
   "display_name": "Python 3.9.1 64-bit",
   "language": "python",
   "name": "python3"
  },
  "language_info": {
   "codemirror_mode": {
    "name": "ipython",
    "version": 3
   },
   "file_extension": ".py",
   "mimetype": "text/x-python",
   "name": "python",
   "nbconvert_exporter": "python",
   "pygments_lexer": "ipython3",
   "version": "3.9.1"
  },
  "orig_nbformat": 4
 },
 "nbformat": 4,
 "nbformat_minor": 2
}
