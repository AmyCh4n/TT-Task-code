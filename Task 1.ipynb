{
 "cells": [
  {
   "cell_type": "markdown",
   "metadata": {},
   "source": [
    "Task 1: Write a program that does the following: \n",
    "    \n",
    "    a) Stores a random number (1-10) in a variables \n",
    "    \n",
    "    b) Asks a user for their name and stores this in a variable\n",
    "    \n",
    "    c) Asks a user to guess the number between 1 and 10\n",
    "   \n",
    "    d) Tells the user whether they have guessed correctly "
   ]
  },
  {
   "cell_type": "code",
   "execution_count": null,
   "metadata": {},
   "outputs": [],
   "source": [
    "from random import randint\n",
    "\n",
    "rand_num = randint(1,10)\n",
    "\n",
    "user_name = input(\"What is your name?\")\n",
    "user_guess = int(input(\"A random number between 1 and 10 has been generated, can you guess what it is?\"))\n",
    "\n",
    "print(user_name, \"you guessed the number\", user_guess, \".\")\n",
    "\n",
    "if user_guess == rand_num:\n",
    "    print('You were correct!')\n",
    "else:\n",
    "    print(\"Unlucky, why not try again?\")\n",
    "\n",
    "print(\"The random number was\", rand_num, \".\")\n"
   ]
  },
  {
   "cell_type": "markdown",
   "metadata": {},
   "source": [
    "Task 2: Write a program that asks a user for their favourite number between 1 and 100 and then tells them a joke based on the number. You should use a minimum of 3 jokes "
   ]
  },
  {
   "cell_type": "code",
   "execution_count": null,
   "metadata": {},
   "outputs": [],
   "source": [
    "user_fave_num = int(input(\"What is your favourite number?\"))\n",
    "\n",
    "if user_fave_num >=1 and user_fave_num <= 25:\n",
    "    print(\"Why do we tell actors to “break a leg? \\n Because every play has a cast.\")\n",
    "elif user_fave_num >25 and user_fave_num <= 50:\n",
    "    print(\"What’s the best thing about Switzerland? \\n I don’t know, but the flag is a big plus.\")\n",
    "elif user_fave_num >50 and user_fave_num <= 75: \n",
    "    print(\"Hear about the new restaurant called Karma? \\n There’s no menu: You get what you deserve.\")\n",
    "elif user_fave_num >75 and user_fave_num <=100:\n",
    "    print(\"Why don’t scientists trust atoms? \\n Because they make up everything.\")\n",
    "else:\n",
    "    print(\"I have no jokes for you\")"
   ]
  },
  {
   "cell_type": "markdown",
   "metadata": {},
   "source": [
    "Task 3: Write a program that allows users to enter their favourite starter, main course, dessert and drink \n",
    "\n",
    "Concatenate these and output a message which says - \"Your favourite meal is .... with a glass of ....\""
   ]
  },
  {
   "cell_type": "code",
   "execution_count": null,
   "metadata": {},
   "outputs": [],
   "source": [
    "user_start = input(\"What is your favourite starter?\")\n",
    "user_main = input(\"What is your favourite main course?\")\n",
    "user_dess = input(\"What is your favourite dessert?\")\n",
    "user_drink = input(\"What is your favourite drink?\")\n",
    "\n",
    "print(\"Your favourite meal starts with\", user_start, \", has a main of\", user_main, \"and finally ends with\", user_dess, \"for dessert, with a glass of\", user_drink)"
   ]
  },
  {
   "cell_type": "markdown",
   "metadata": {},
   "source": [
    "Task 4: A motorbike costs £2000 and loses 10% of its value every year. Using a loop, print that value of the bike every following year until it falls below £1000. "
   ]
  },
  {
   "cell_type": "code",
   "execution_count": null,
   "metadata": {},
   "outputs": [],
   "source": [
    "m = 2000\n",
    "y = 0\n",
    "\n",
    "while m > 900: \n",
    "    print(\"The price of the motorbike after\", y, \"year(s) is:\", m)\n",
    "    y += 1\n",
    "    m -= (m * 0.1)\n",
    " "
   ]
  },
  {
   "cell_type": "markdown",
   "metadata": {},
   "source": [
    "Task 5: Write a program which will ask for two numbers from a user. Then offer a menu to the user giving them a choice of operator: \n",
    "\n",
    "e.g. - Enter \"a\" if you want to add \n",
    "    \"b\" if you want to subtract\n",
    "\n",
    "include +,-,/,*,**square(to the power of). Once the user has selected which operator they wish to use, perform the calculation."
   ]
  },
  {
   "cell_type": "code",
   "execution_count": null,
   "metadata": {},
   "outputs": [],
   "source": [
    "num_1 = int(input(\"Choose a number\"))\n",
    "num_2 = int(input(\"Choose another number\"))\n",
    "operator = input(\"Choose an operator: plus: +, minus: -, multiply: *, divide: /, squared (to the power of): **\")\n",
    "\n",
    "if operator == '+':\n",
    "    print(num_1, \"+\", num_2, \"=\", num_1 + num_2)\n",
    "elif operator == '-':\n",
    "    print(num_1, \"-\", num_2, \"=\", num_1 - num_2)\n",
    "elif operator == '*':\n",
    "    print(num_1, \"x\", num_2, \"=\", num_1 * num_2)\n",
    "elif operator == '/':\n",
    "    print(num_1, \"/\", num_2, \"=\", num_1 / num_2)\n",
    "elif operator == '**':\n",
    "    print(num_1, \"**\", num_2, \"=\", num_1 ** num_2)\n",
    "else:\n",
    "    print(\"Error, please try again\")"
   ]
  }
 ],
 "metadata": {
  "interpreter": {
   "hash": "aee8b7b246df8f9039afb4144a1f6fd8d2ca17a180786b69acc140d282b71a49"
  },
  "kernelspec": {
   "display_name": "Python 3.9.1 64-bit",
   "language": "python",
   "name": "python3"
  },
  "language_info": {
   "codemirror_mode": {
    "name": "ipython",
    "version": 3
   },
   "file_extension": ".py",
   "mimetype": "text/x-python",
   "name": "python",
   "nbconvert_exporter": "python",
   "pygments_lexer": "ipython3",
   "version": "3.9.1"
  },
  "orig_nbformat": 4
 },
 "nbformat": 4,
 "nbformat_minor": 2
}
