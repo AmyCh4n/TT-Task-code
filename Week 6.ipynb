{
 "cells": [
  {
   "cell_type": "markdown",
   "metadata": {},
   "source": [
    "\n",
    "Create a CSV file of 15 holiday destinations for a website\n",
    "1. Add in a column of destinations\n",
    "2. Add in a column that shows feedback score out of 10 for that\n",
    "destination\n",
    "3. Add in a column for average hotel star rating for those\n",
    "destinations\n",
    "4. Add in a column for number of all-inclusive hotels within each\n",
    "destination\n",
    "5. Add in the most visited city in each destination"
   ]
  },
  {
   "cell_type": "code",
   "execution_count": null,
   "metadata": {},
   "outputs": [],
   "source": [
    "#install pandas library \n",
    "pip install pandas"
   ]
  },
  {
   "cell_type": "code",
   "execution_count": null,
   "metadata": {},
   "outputs": [],
   "source": [
    "#import Pandas\n",
    "import pandas as pd\n",
    "\n",
    "#create dataset\n",
    "dest_data = {\"dest_num\":[1,2,3,4,5,6,7,8,9,10,11,12,13,14,15],\n",
    "                \"dest_name\":[\"England\",\"France\",\"US\",\"China\",\"Japan\",\"Spain\",\"Norway\",\"Singapore\",\"Thailand\",\"India\",\"Australia\",\"South Africa\",\"French Polynesia\",\"Hawaii\",\"Italy\"],\n",
    "                \"feedback_score\":[4,7,7,9,7,8,7,3,7,5,8,9,2,3,5],\n",
    "                \"ave_hotel_rating\":[5,4,5,1,2,3,5,1,2,4,2,5,2,4,2],\n",
    "                \"num_all_incl_hotels\":[41,29,41,46,18,25,23,47,56,65,100,17,67,49,44],\n",
    "                \"most_visited_city\":[\"London\",\"Paris\",\"New York\",\"Hong Kong\",\"Tokyo\",\"Barcelona\",\"Oslo\",\"Singapore\",\"Bangkok\",\"New Deli\",\"Sydney\",\"Johannesburg\",\"Bora Bora\",\"Maui\",\"Rome\"]}\n",
    "\n",
    "#create dataframe\n",
    "dest = pd.DataFrame(dest_data)\n",
    "\n",
    "#print dataframe\n",
    "print(dest)"
   ]
  },
  {
   "cell_type": "code",
   "execution_count": null,
   "metadata": {},
   "outputs": [],
   "source": [
    "#Run either above or below\n",
    "#reading in the .csv dest data file \n",
    "dest = pd.read_csv(\"Task 4 dest_data.csv\")\n",
    "print(dest)"
   ]
  },
  {
   "cell_type": "markdown",
   "metadata": {},
   "source": [
    "1. How many rows and columns are there in your file?"
   ]
  },
  {
   "cell_type": "code",
   "execution_count": null,
   "metadata": {},
   "outputs": [],
   "source": [
    "#showing the number of rows and columns within the dataset dest\n",
    "dest.shape"
   ]
  },
  {
   "cell_type": "markdown",
   "metadata": {},
   "source": [
    "2. Print rows 3-8 ( using iloc/loc)."
   ]
  },
  {
   "cell_type": "code",
   "execution_count": null,
   "metadata": {},
   "outputs": [],
   "source": [
    "#printing rows 3-8 in dest using iloc\n",
    "print(dest.iloc[2:8,0:6])"
   ]
  },
  {
   "cell_type": "markdown",
   "metadata": {},
   "source": [
    "3. Find the mean number of all-inclusive hotels across all destinations."
   ]
  },
  {
   "cell_type": "code",
   "execution_count": null,
   "metadata": {},
   "outputs": [],
   "source": [
    "all_incl_mean = dest[\"num_all_incl_hotels\"].mean()\n",
    "print(all_incl_mean)"
   ]
  },
  {
   "cell_type": "markdown",
   "metadata": {},
   "source": [
    "4. Find the lowest scoring destination."
   ]
  },
  {
   "cell_type": "code",
   "execution_count": null,
   "metadata": {},
   "outputs": [],
   "source": [
    "#2 ways to complete this\n",
    "#WAY 1: Outputs the lowest number in the feedback_score column using df[].min()\n",
    "low_score_dest = dest[\"feedback_score\"].min()\n",
    "print(low_score_dest)"
   ]
  },
  {
   "cell_type": "code",
   "execution_count": null,
   "metadata": {},
   "outputs": [],
   "source": [
    "#WAY 2: Outputs the whole row of the lowest number in the feedback_score column using df.sort_values()\n",
    "#and selecting the first row\n",
    "sort_score_dest_asc = dest.sort_values(by=[\"feedback_score\"],ascending=True)\n",
    "low_score_dest = sort_score_dest_asc.iloc[0]\n",
    "print(low_score_dest)"
   ]
  },
  {
   "cell_type": "markdown",
   "metadata": {},
   "source": [
    "5. Find the highest scoring destination."
   ]
  },
  {
   "cell_type": "code",
   "execution_count": null,
   "metadata": {},
   "outputs": [],
   "source": [
    "#2 ways to complete this\n",
    "#WAY 1: Outputs the highest number in the feedback_score column using df[].max()\n",
    "high_score_dest = dest[\"feedback_score\"].max()\n",
    "print(high_score_dest)"
   ]
  },
  {
   "cell_type": "code",
   "execution_count": null,
   "metadata": {},
   "outputs": [],
   "source": [
    "#WAY 2: Outputs the whole row of the highest number in the feedback_score column using df.sort_values()\n",
    "#and setting ascending to false. Then selecting the first row\n",
    "sort_score_dest_desc = dest.sort_values(by=[\"feedback_score\"],ascending=False)\n",
    "high_score_dest = sort_score_dest_desc.iloc[0]\n",
    "print(high_score_dest)"
   ]
  },
  {
   "cell_type": "markdown",
   "metadata": {},
   "source": [
    "6. Find all the destinations where there are more than 9 all-inclusive hotels. (using 50 because I chose big numbers)"
   ]
  },
  {
   "cell_type": "code",
   "execution_count": null,
   "metadata": {},
   "outputs": [],
   "source": [
    "#add another column which uses boolean (true/false) to find the destinations \n",
    "#with more than 50 all inclusive hotels \n",
    "more_than_50 = dest[\"num_all_incl_hotels\"]>50\n",
    "\n",
    "#create a new dataframe which will take the true values and print the output \n",
    "more_than_50_df = dest[more_than_50]\n",
    "print(more_than_50_df)"
   ]
  },
  {
   "cell_type": "markdown",
   "metadata": {},
   "source": [
    "7. Filter the data by score above 8."
   ]
  },
  {
   "cell_type": "code",
   "execution_count": null,
   "metadata": {},
   "outputs": [],
   "source": [
    "#add another column which uses boolean (true/false) to find the destinations with a feedback_score of \n",
    "#higher than 8 \n",
    "more_than_8 = dest[\"feedback_score\"]>8\n",
    "\n",
    "#create a new dataframe which will take the true values and print the output \n",
    "more_than_8_df = dest[more_than_8]\n",
    "print(more_than_8_df)"
   ]
  },
  {
   "cell_type": "markdown",
   "metadata": {},
   "source": [
    "8. Filter the data score below 2 ( I need to know if these destinations should be removed or there is a problem)"
   ]
  },
  {
   "cell_type": "code",
   "execution_count": null,
   "metadata": {},
   "outputs": [],
   "source": [
    "#add another column which uses boolean (true/false) to find the destinations with a feedback_score of \n",
    "#less than 2\n",
    "less_than_2 = dest[\"feedback_score\"]<2\n",
    "\n",
    "#create a new dataframe which will take the true values and print the output \n",
    "less_than_2_df = dest[less_than_2]\n",
    "print(less_than_2_df)"
   ]
  },
  {
   "cell_type": "markdown",
   "metadata": {},
   "source": [
    "Extension\n",
    "1. Is there a correlation between number of all-inclusive hotels and score?"
   ]
  },
  {
   "cell_type": "code",
   "execution_count": null,
   "metadata": {},
   "outputs": [],
   "source": [
    "#install matplotlib\n",
    "pip install matplotlib"
   ]
  },
  {
   "cell_type": "code",
   "execution_count": null,
   "metadata": {},
   "outputs": [],
   "source": [
    "#plot feedback_score against num_all_incl_hotels using scatter graph\n",
    "#specify the x and y axis and choose the dot colour \n",
    "dest_scatter = dest.plot.scatter(x=\"feedback_score\", y=\"num_all_incl_hotels\", c=\"Orange\")"
   ]
  },
  {
   "cell_type": "markdown",
   "metadata": {},
   "source": [
    "There does not appear to be a correlation between feedback_score and the number of all inclusive hotels"
   ]
  },
  {
   "cell_type": "markdown",
   "metadata": {},
   "source": [
    "2. Create a data visualisation diagram to show destination and highest scores?"
   ]
  },
  {
   "cell_type": "code",
   "execution_count": null,
   "metadata": {},
   "outputs": [],
   "source": [
    "#create new dataframe with the relevant data, using the destination names as\n",
    "#the index and the pandas library\n",
    "dest_vis_data = pd.DataFrame(\n",
    "                {\"feedback_score\":[4,7,7,9,7,8,7,3,7,5,8,9,2,3,5]},\n",
    "                index=[\"England\",\"France\",\"US\",\"China\",\"Japan\",\"Spain\",\"Norway\",\"Singapore\",\"Thailand\",\"India\",\"Australia\",\"South Africa\",\"French Polynesia\",\"Hawaii\",\"Italy\"])\n",
    "\n",
    "#arrange the data into ascending order \n",
    "sort_score_dest = dest_vis_data.sort_values(by=[\"feedback_score\"],ascending=True)\n",
    "\n",
    "#plot bar chart showing the destinations in ascending order according to their\n",
    "#feedback scores\n",
    "dest_bar = sort_score_dest.plot(kind=\"bar\", color=\"orange\")\n"
   ]
  }
 ],
 "metadata": {
  "interpreter": {
   "hash": "aee8b7b246df8f9039afb4144a1f6fd8d2ca17a180786b69acc140d282b71a49"
  },
  "kernelspec": {
   "display_name": "Python 3.9.1 64-bit",
   "language": "python",
   "name": "python3"
  },
  "language_info": {
   "codemirror_mode": {
    "name": "ipython",
    "version": 3
   },
   "file_extension": ".py",
   "mimetype": "text/x-python",
   "name": "python",
   "nbconvert_exporter": "python",
   "pygments_lexer": "ipython3",
   "version": "3.9.1"
  },
  "orig_nbformat": 4
 },
 "nbformat": 4,
 "nbformat_minor": 2
}
